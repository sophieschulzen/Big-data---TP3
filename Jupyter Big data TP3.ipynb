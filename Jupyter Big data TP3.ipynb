{
 "cells": [
  {
   "cell_type": "markdown",
   "id": "40bf750f-f5f5-4579-b185-d94580765b78",
   "metadata": {},
   "source": [
    "Sophie Schulzen, Sofia Ellenberg, Vicente Zervino\n",
    "\n",
    "Trabajo Practico N°3\n"
   ]
  },
  {
   "cell_type": "code",
   "execution_count": 1,
   "id": "763ab1d6-8c6a-483e-9a16-77c394cff562",
   "metadata": {},
   "outputs": [],
   "source": [
    "import pandas as pd"
   ]
  },
  {
   "cell_type": "code",
   "execution_count": 2,
   "id": "571a5dff-d2a4-4b62-87d3-af6bf33569c7",
   "metadata": {},
   "outputs": [
    {
     "name": "stdout",
     "output_type": "stream",
     "text": [
      "                              CODUSU  ANO4  TRIMESTRE  NRO_HOGAR  COMPONENTE  \\\n",
      "0      TQRMNOSUWHLMKQCDEFNFF00852219  2023          4          1           1   \n",
      "1      TQRMNOSUWHLMKQCDEFNFF00852219  2023          4          1           2   \n",
      "2      TQRMNOTXQHKOLMCDEGNFJ00794590  2023          4          1           1   \n",
      "3      TQRMNOTXQHKOLMCDEGNFJ00794590  2023          4          1           2   \n",
      "4      TQRMNOTXQHKOLMCDEGNFJ00794590  2023          4          1           3   \n",
      "...                              ...   ...        ...        ...         ...   \n",
      "47332  TQRMNORXTHLOLSCDEGJBF00853031  2023          4          1           1   \n",
      "47333  TQRMNORXTHLOLSCDEGJBF00853031  2023          4          1           2   \n",
      "47334  TQRMNORXTHLOLSCDEGJBF00853031  2023          4          1           3   \n",
      "47335  TQRMNORXTHLOLSCDEGJBF00853031  2023          4          1           4   \n",
      "47336  TQRMNOQWQHKMLNCDEIMBF00792561  2023          4          1           1   \n",
      "\n",
      "       H15  REGION MAS_500  AGLOMERADO  PONDERA  ...  PDECIFR  ADECIFR  \\\n",
      "0        1      41       N           7      370  ...     12.0       12   \n",
      "1        1      41       N           7      370  ...     12.0       12   \n",
      "2        1      44       N          17      281  ...      9.0        7   \n",
      "3        1      44       N          17      281  ...      9.0        7   \n",
      "4        0      44       N          17      281  ...      9.0        7   \n",
      "...    ...     ...     ...         ...      ...  ...      ...      ...   \n",
      "47332    1      43       S          13      634  ...      NaN        4   \n",
      "47333    1      43       S          13      634  ...      NaN        4   \n",
      "47334    1      43       S          13      634  ...      NaN        4   \n",
      "47335    1      43       S          13      634  ...      NaN        4   \n",
      "47336    1      43       N          36      142  ...      4.0        4   \n",
      "\n",
      "            IPCF  DECCFR  IDECCFR  RDECCFR  GDECCFR  PDECCFR  ADECCFR  PONDIH  \n",
      "0           0.00      12     12.0       12      NaN     12.0       12       0  \n",
      "1           0.00      12     12.0       12      NaN     12.0       12       0  \n",
      "2      216666.67       8      8.0        7      NaN      8.0        6     387  \n",
      "3      216666.67       8      8.0        7      NaN      8.0        6     387  \n",
      "4      216666.67       8      8.0        7      NaN      8.0        6     387  \n",
      "...          ...     ...      ...      ...      ...      ...      ...     ...  \n",
      "47332   65000.00       2      2.0        2      2.0      NaN        2     777  \n",
      "47333   65000.00       2      2.0        2      2.0      NaN        2     777  \n",
      "47334   65000.00       2      2.0        2      2.0      NaN        2     777  \n",
      "47335   65000.00       2      2.0        2      2.0      NaN        2     777  \n",
      "47336  250000.00       8      9.0        8      NaN      9.0        8     156  \n",
      "\n",
      "[47337 rows x 177 columns]\n"
     ]
    }
   ],
   "source": [
    "#Parte 1\n",
    "\n",
    "# Abrimos la base de datos\n",
    "base_de_datos = 'usu_individual_T423.xlsx'\n",
    "\n",
    "datos = pd.read_excel(base_de_datos)\n",
    "print(datos)"
   ]
  },
  {
   "cell_type": "code",
   "execution_count": 3,
   "id": "4b2efc78-db5c-426b-af1e-7c09aba4d222",
   "metadata": {},
   "outputs": [
    {
     "name": "stdout",
     "output_type": "stream",
     "text": [
      "                              CODUSU  ANO4  TRIMESTRE  NRO_HOGAR  COMPONENTE  \\\n",
      "109    TQRMNOTUUHJMLPCDEIIAD00801670  2023          4          1           1   \n",
      "110    TQRMNOTUUHJMLPCDEIIAD00801670  2023          4          1           2   \n",
      "111    TQRMNOPUUHJKLQCDEIIAD00793187  2023          4          1           1   \n",
      "112    TQRMNOPUUHJKLQCDEIIAD00793187  2023          4          1           2   \n",
      "113    TQRMNOPUTHKLMNCDEIIAD00791268  2023          4          1           1   \n",
      "...                              ...   ...        ...        ...         ...   \n",
      "45768  TQRMNOSRQHLMNSCDEIJAH00855730  2023          4          1           2   \n",
      "45769  TQRMNOSRQHLMNSCDEIJAH00855730  2023          4          1           3   \n",
      "45770  TQRMNOVTYHLMNUCDEIJAH00855731  2023          4          1           1   \n",
      "45771  TQRMNOVTYHLMNUCDEIJAH00855731  2023          4          1           2   \n",
      "45772  TQRMNOVTYHLMNUCDEIJAH00855731  2023          4          1           3   \n",
      "\n",
      "       H15  REGION MAS_500  AGLOMERADO  PONDERA  ...  PDECIFR  ADECIFR  \\\n",
      "109      1       1       S          32     1775  ...      NaN        5   \n",
      "110      1       1       S          32     1775  ...      NaN        5   \n",
      "111      2       1       S          32      609  ...      NaN       12   \n",
      "112      1       1       S          32      609  ...      NaN       12   \n",
      "113      1       1       S          32     3129  ...      NaN        8   \n",
      "...    ...     ...     ...         ...      ...  ...      ...      ...   \n",
      "45768    1       1       S          33     1230  ...      NaN        9   \n",
      "45769    0       1       S          33     1230  ...      NaN        9   \n",
      "45770    1       1       S          33     1316  ...      NaN        3   \n",
      "45771    1       1       S          33     1316  ...      NaN        3   \n",
      "45772    1       1       S          33     1316  ...      NaN        3   \n",
      "\n",
      "            IPCF  DECCFR  IDECCFR  RDECCFR  GDECCFR  PDECCFR  ADECCFR  PONDIH  \n",
      "109    225000.00       8      NaN        8      8.0      NaN        5    3079  \n",
      "110    225000.00       8      NaN        8      8.0      NaN        5    3079  \n",
      "111         0.00      12      NaN       12     12.0      NaN       12       0  \n",
      "112         0.00      12      NaN       12     12.0      NaN       12       0  \n",
      "113    266666.67       9      NaN        8      8.0      NaN        6    4648  \n",
      "...          ...     ...      ...      ...      ...      ...      ...     ...  \n",
      "45768  266666.67       9      NaN        8      8.0      NaN        9    2145  \n",
      "45769  266666.67       9      NaN        8      8.0      NaN        9    2145  \n",
      "45770   80000.00       3      NaN        3      3.0      NaN        3    2192  \n",
      "45771   80000.00       3      NaN        3      3.0      NaN        3    2192  \n",
      "45772   80000.00       3      NaN        3      3.0      NaN        3    2192  \n",
      "\n",
      "[7380 rows x 177 columns]\n"
     ]
    }
   ],
   "source": [
    "#Ejercicio 2.a.\n",
    "#Eliminamos todas las observaciones que no corresponden a los aglomerados de Ciudad Autonoma de Buenos Aires o Gran Buenos Aires.\n",
    "datos_limpios = datos[(datos['AGLOMERADO'] == 32) | (datos['AGLOMERADO'] == 33)]\n",
    "print(datos_limpios)"
   ]
  },
  {
   "cell_type": "code",
   "execution_count": 4,
   "id": "a4d83424-4e74-4df8-9837-0449d217c3ad",
   "metadata": {},
   "outputs": [
    {
     "name": "stdout",
     "output_type": "stream",
     "text": [
      "Index(['CH06', 'PP06C', 'PP06D', 'PP08D1', 'PP08F1', 'PP08F2', 'PP08J1',\n",
      "       'PP08J2', 'PP08J3', 'P21', 'TOT_P12', 'P47T', 'V2_M', 'V3_M', 'V4_M',\n",
      "       'V5_M', 'V8_M', 'V9_M', 'V10_M', 'V11_M', 'V12_M', 'V18_M', 'V21_M',\n",
      "       'T_VI'],\n",
      "      dtype='object')\n",
      "                              CODUSU  ANO4  TRIMESTRE  NRO_HOGAR  COMPONENTE  \\\n",
      "109    TQRMNOTUUHJMLPCDEIIAD00801670  2023          4          1           1   \n",
      "110    TQRMNOTUUHJMLPCDEIIAD00801670  2023          4          1           2   \n",
      "111    TQRMNOPUUHJKLQCDEIIAD00793187  2023          4          1           1   \n",
      "112    TQRMNOPUUHJKLQCDEIIAD00793187  2023          4          1           2   \n",
      "113    TQRMNOPUTHKLMNCDEIIAD00791268  2023          4          1           1   \n",
      "...                              ...   ...        ...        ...         ...   \n",
      "45768  TQRMNOSRQHLMNSCDEIJAH00855730  2023          4          1           2   \n",
      "45769  TQRMNOSRQHLMNSCDEIJAH00855730  2023          4          1           3   \n",
      "45770  TQRMNOVTYHLMNUCDEIJAH00855731  2023          4          1           1   \n",
      "45771  TQRMNOVTYHLMNUCDEIJAH00855731  2023          4          1           2   \n",
      "45772  TQRMNOVTYHLMNUCDEIJAH00855731  2023          4          1           3   \n",
      "\n",
      "       H15  REGION MAS_500  AGLOMERADO  PONDERA  ...  PDECIFR  ADECIFR  \\\n",
      "109      1       1       S          32     1775  ...      NaN        5   \n",
      "110      1       1       S          32     1775  ...      NaN        5   \n",
      "111      2       1       S          32      609  ...      NaN       12   \n",
      "112      1       1       S          32      609  ...      NaN       12   \n",
      "113      1       1       S          32     3129  ...      NaN        8   \n",
      "...    ...     ...     ...         ...      ...  ...      ...      ...   \n",
      "45768    1       1       S          33     1230  ...      NaN        9   \n",
      "45769    0       1       S          33     1230  ...      NaN        9   \n",
      "45770    1       1       S          33     1316  ...      NaN        3   \n",
      "45771    1       1       S          33     1316  ...      NaN        3   \n",
      "45772    1       1       S          33     1316  ...      NaN        3   \n",
      "\n",
      "            IPCF  DECCFR  IDECCFR  RDECCFR  GDECCFR  PDECCFR  ADECCFR  PONDIH  \n",
      "109    225000.00       8      NaN        8      8.0      NaN        5    3079  \n",
      "110    225000.00       8      NaN        8      8.0      NaN        5    3079  \n",
      "111         0.00      12      NaN       12     12.0      NaN       12       0  \n",
      "112         0.00      12      NaN       12     12.0      NaN       12       0  \n",
      "113    266666.67       9      NaN        8      8.0      NaN        6    4648  \n",
      "...          ...     ...      ...      ...      ...      ...      ...     ...  \n",
      "45768  266666.67       9      NaN        8      8.0      NaN        9    2145  \n",
      "45769  266666.67       9      NaN        8      8.0      NaN        9    2145  \n",
      "45770   80000.00       3      NaN        3      3.0      NaN        3    2192  \n",
      "45771   80000.00       3      NaN        3      3.0      NaN        3    2192  \n",
      "45772   80000.00       3      NaN        3      3.0      NaN        3    2192  \n",
      "\n",
      "[5969 rows x 177 columns]\n"
     ]
    }
   ],
   "source": [
    "#Ejercicio 2.b. \n",
    "#Borramos las observaciones sin sentido. Por ejemplo; variables de ingreso que tengan valores negativos o edad negativa. \n",
    "\n",
    "#Primero vemos que variables tienen valores minimos negativos con el comando describe():\n",
    "datos_limpios.describe()\n",
    "chequeo = datos_limpios.describe()\n",
    "minimos = chequeo.min()\n",
    "# Filtramos las columnas con valores mínimos negativos para no olvidar ninguna. \n",
    "columnas_con_negativos = minimos[minimos < 0].index\n",
    "print(columnas_con_negativos)\n",
    "\n",
    "#Seleccionamos las variables que no deberian tener valores negativos. \n",
    "variables = ['ITF', 'DECIFR', 'IDECIFR', 'RDECIFR', 'GDECIFR', 'PDECIFR', 'ADECIFR', 'P21', 'DECOCUR', 'IDECOCUR', 'RDECOCUR', \n",
    "             'GDECOCUR', 'PDECOCUR', 'ADECOCUR', 'PONDIIO', 'IPCF', 'DECCFR', 'IDECCFR', \n",
    "             'RDECCFR', 'GDECCFR', 'PDECCFR', 'ADECCFR', 'PONDIH', 'P47T', 'DECINDR', \n",
    "             'IDECINDR', 'RDECINDR', 'GDECINDR', 'PDECINDR', 'ADECINDR', 'PONDII', \n",
    "             'V2_M', 'V3_M', 'V4_M', 'V5_M', 'V8_M', 'V9_M', 'V10_M', 'V11_M', 'V12_M', \n",
    "             'V18_M', 'V19_AM', 'V21_M', 'T_VI', 'CH06','PP06C', 'PP06D', 'PP08D1', 'PP08F1', 'PP08F2', 'PP08J1',\n",
    "       'PP08J2', 'PP08J3', 'P21', 'TOT_P12', 'P47T' ]\n",
    "\n",
    "# Eliminamos las filas que contienen valores negativos en al menos una columna de las variables seleccionadas\n",
    "datos_limpios = datos_limpios[~(datos_limpios[variables] < 0).any(axis=1)]\n",
    "\n",
    "# Mostrar las primeras filas del DataFrame resultante\n",
    "print(datos_limpios)"
   ]
  },
  {
   "cell_type": "code",
   "execution_count": 5,
   "id": "ad558479-63de-49c5-ac5d-34339752ffb8",
   "metadata": {},
   "outputs": [],
   "source": [
    "import matplotlib.pyplot as plt"
   ]
  },
  {
   "cell_type": "code",
   "execution_count": 6,
   "id": "427793e8-5fc5-4bc9-b2e4-ab13f392be5d",
   "metadata": {},
   "outputs": [
    {
     "data": {
      "image/png": "[encoded data removed]",
      "text/plain": [
       "<Figure size 800x600 with 1 Axes>"
      ]
     },
     "metadata": {},
     "output_type": "display_data"
    }
   ],
   "source": [
    "#Ejercicio 2.c. Realizamos un grafico de barras mostrando la composicion por sexo.\n",
    "\n",
    "# Contamos la cantidad de observaciones por sexo\n",
    "composicion_sexo = datos_limpios['CH04'].value_counts()\n",
    "\n",
    "# Graficamos\n",
    "plt.figure(figsize=(8, 6))\n",
    "composicion_sexo.plot(kind='bar')  \n",
    "plt.title('Composición por Sexo')\n",
    "plt.xlabel('Sexo')\n",
    "plt.ylabel('Cantidad de Observaciones')\n",
    "plt.xticks([0, 1], ['Masculino', 'Femenino'], rotation=0)\n",
    "plt.show()"
   ]
  },
  {
   "cell_type": "code",
   "execution_count": 7,
   "id": "0bf1fdac-d941-414c-8fc0-7d048f588e47",
   "metadata": {},
   "outputs": [],
   "source": [
    "import seaborn as sns"
   ]
  },
  {
   "cell_type": "code",
   "execution_count": 8,
   "id": "95b43c32-db8c-4add-adaa-e23005e7b5a7",
   "metadata": {},
   "outputs": [
    {
     "data": {
      "image/png": "[encoded data removed]",
      "text/plain": [
       "<Figure size 1000x800 with 2 Axes>"
      ]
     },
     "metadata": {},
     "output_type": "display_data"
    }
   ],
   "source": [
    "#Ejercicio 2.d. Hacemos la matriz de correlacion con las siguientes variables: CH04, CH07, CH08, NIVEL ED, ESTADO, CAT INAC, IPCF. \n",
    "\n",
    "# Seleccionamos las variables\n",
    "variables = ['CH04', 'CH07', 'CH08', 'NIVEL_ED', 'ESTADO', 'CAT_INAC', 'IPCF']\n",
    "datos_seleccionados = datos_limpios[variables]\n",
    "\n",
    "# Creamos la matriz de correlación\n",
    "matriz_correlacion = datos_seleccionados.corr()\n",
    "\n",
    "plt.figure(figsize=(10, 8))\n",
    "sns.heatmap(matriz_correlacion, annot=True, cmap='coolwarm', fmt=\".2f\")\n",
    "plt.title('Matriz de Correlación')\n",
    "plt.show()"
   ]
  },
  {
   "cell_type": "code",
   "execution_count": 9,
   "id": "dc56ffe5-b0d5-4cf6-9b15-c851ee93454e",
   "metadata": {},
   "outputs": [
    {
     "name": "stdout",
     "output_type": "stream",
     "text": [
      "Desocupados: 226\n",
      "Inactivos: 2507\n",
      "Media de IPCF según estado:\n",
      "ESTADO\n",
      "0         0.000000\n",
      "1    190809.678283\n",
      "2     61605.874425\n",
      "3     93740.533139\n",
      "4     75891.491137\n",
      "Name: IPCF, dtype: float64\n"
     ]
    }
   ],
   "source": [
    "#Ejercicio 2.e. \n",
    "#Sabiendo que de la variable ESTADO toma los valores:\n",
    "#1 = Ocupado\n",
    "#2 = Desocupado\n",
    "#3 = Inactivo.  \n",
    "\n",
    "# Calculamos el número de desocupados e inactivos\n",
    "desocupados = datos_limpios[datos_limpios['ESTADO'] == 2].shape[0]\n",
    "inactivos = datos_limpios[datos_limpios['ESTADO'] == 3].shape[0]\n",
    "\n",
    "print(\"Desocupados:\", desocupados)\n",
    "print(\"Inactivos:\", inactivos)\n",
    "\n",
    "#Luego, calculamos la media de ingreso per capita familiar (IPCF) segun estado (ocupado, desocupado, inactivo)\n",
    "media_por_estado = datos_limpios.groupby('ESTADO')['IPCF'].mean()\n",
    "\n",
    "print(\"Media de IPCF según estado:\")\n",
    "print(media_por_estado)\n",
    "\n"
   ]
  },
  {
   "cell_type": "code",
   "execution_count": 10,
   "id": "c3a1d3ff-bd23-445e-9434-821e4f6b7300",
   "metadata": {},
   "outputs": [
    {
     "name": "stdout",
     "output_type": "stream",
     "text": [
      "   Tabla de equivalencias de necesidades energéticas. Unidades de adulto equivalente, según sexo y edad  \\\n",
      "0                                                 NaN                                                     \n",
      "1                                                 NaN                                                     \n",
      "2                                                Edad                                                     \n",
      "3                                                 NaN                                                     \n",
      "4                                      Menor de 1 año                                                     \n",
      "5                                                1año                                                     \n",
      "6                                              2 años                                                     \n",
      "7                                              3 años                                                     \n",
      "8                                              4 años                                                     \n",
      "9                                              5 años                                                     \n",
      "10                                             6 años                                                     \n",
      "11                                             7 años                                                     \n",
      "12                                             8 años                                                     \n",
      "13                                             9 años                                                     \n",
      "14                                            10 años                                                     \n",
      "15                                            11 años                                                     \n",
      "16                                            12 años                                                     \n",
      "17                                            13 años                                                     \n",
      "18                                            14 años                                                     \n",
      "19                                            15 años                                                     \n",
      "20                                            16 años                                                     \n",
      "21                                            17 años                                                     \n",
      "22                                       18 a 29 años                                                     \n",
      "23                                       30 a 45 años                                                     \n",
      "24                                       46 a 60 años                                                     \n",
      "25                                       61 a 75 años                                                     \n",
      "26                                     más de 75 años                                                     \n",
      "27                                                NaN                                                     \n",
      "28  Ejemplos de determinación de las unidades cons...                                                     \n",
      "29  Se presentan a continuación tres ejemplos de c...                                                     \n",
      "30                                                NaN                                                     \n",
      "31  Hogar 1: de tres integrantes, compuesto por un...                                                     \n",
      "32                                                NaN                                                     \n",
      "33  Hogar 2: de cuatro integrantes, compuesto por ...                                                     \n",
      "34                                                NaN                                                     \n",
      "35  Hogar 3: de cinco integrantes, constituido por...                                                     \n",
      "36                                                NaN                                                     \n",
      "37                                                NaN                                                     \n",
      "38                                     Fuente: INDEC.                                                     \n",
      "\n",
      "   Unnamed: 1 Unnamed: 2  \n",
      "0         NaN        NaN  \n",
      "1         NaN        NaN  \n",
      "2     Mujeres    Varones  \n",
      "3         NaN        NaN  \n",
      "4        0.35       0.35  \n",
      "5        0.37       0.37  \n",
      "6        0.46       0.46  \n",
      "7        0.51       0.51  \n",
      "8        0.55       0.55  \n",
      "9         0.6        0.6  \n",
      "10       0.64       0.64  \n",
      "11       0.66       0.66  \n",
      "12       0.68       0.68  \n",
      "13       0.69       0.69  \n",
      "14        0.7       0.79  \n",
      "15       0.72       0.82  \n",
      "16       0.74       0.85  \n",
      "17       0.76        0.9  \n",
      "18       0.76       0.96  \n",
      "19       0.77          1  \n",
      "20       0.77       1.03  \n",
      "21       0.77       1.04  \n",
      "22       0.76       1.02  \n",
      "23       0.77          1  \n",
      "24       0.76          1  \n",
      "25       0.67       0.83  \n",
      "26       0.63       0.74  \n",
      "27        NaN        NaN  \n",
      "28        NaN        NaN  \n",
      "29        NaN        NaN  \n",
      "30        NaN        NaN  \n",
      "31        NaN        NaN  \n",
      "32        NaN        NaN  \n",
      "33        NaN        NaN  \n",
      "34        NaN        NaN  \n",
      "35        NaN        NaN  \n",
      "36        NaN        NaN  \n",
      "37        NaN        NaN  \n",
      "38        NaN        NaN  \n"
     ]
    }
   ],
   "source": [
    "#Ejercicio 2.f\n",
    "\n",
    "#Agregamos el archivo tabla adulto equiv.xlsx \n",
    "tabla_equiv = 'tabla_adulto_equiv.xlsx'\n",
    "tabla = pd.read_excel(tabla_equiv)\n",
    "print(tabla)\n",
    "\n",
    "#Sin embargo, para hacer el ejercicio, no podemos lograr que la tabla se lea de manera correcta. Por ende, lo que haremos sera pasar los datos a mano y hacerlo a partir de esto. \n"
   ]
  },
  {
   "cell_type": "code",
   "execution_count": 11,
   "id": "3638bfb6-b14d-4f3f-b679-228014a537f2",
   "metadata": {
    "scrolled": true
   },
   "outputs": [
    {
     "name": "stdout",
     "output_type": "stream",
     "text": [
      "    lowerbound_edad  upperbound_edad  Mujeres  Varones\n",
      "0                 0                0     0.35     0.35\n",
      "1                 1                1     0.37     0.37\n",
      "2                 2                2     0.46     0.46\n",
      "3                 3                3     0.51     0.51\n",
      "4                 4                4     0.55     0.55\n",
      "5                 5                5     0.60     0.60\n",
      "6                 6                6     0.64     0.64\n",
      "7                 7                7     0.66     0.66\n",
      "8                 8                8     0.68     0.68\n",
      "9                 9                9     0.69     0.69\n",
      "10               10               10     0.70     0.79\n",
      "11               11               11     0.72     0.82\n",
      "12               12               12     0.74     0.85\n",
      "13               13               13     0.76     0.90\n",
      "14               14               14     0.76     0.96\n",
      "15               15               15     0.77     1.00\n",
      "16               16               16     0.77     1.03\n",
      "17               17               17     0.77     1.04\n",
      "18               18               29     0.76     1.02\n",
      "19               30               45     0.77     1.00\n",
      "20               46               60     0.76     1.00\n",
      "21               61               75     0.67     0.83\n",
      "22               76              100     0.63     0.74\n",
      "     CH06  CH04  adulto_equiv  ad_equiv_hogar\n",
      "109    76     1          0.74            1.37\n",
      "110    79     2          0.63            1.37\n",
      "111    65     1          0.83            5.64\n",
      "112    66     2          0.67            5.64\n",
      "113    49     2          0.76            2.82\n"
     ]
    }
   ],
   "source": [
    "#Comenzamos pasando los datos. \n",
    "#Queremos agregar un columna a nuestra abse de datos llamada adulto_equiv. Para eso hacemos un diccionario por edad y por sexo. \n",
    "\n",
    "# Definimos el diccionario adulto_equiv copiando la tabla\n",
    "adulto_equiv = {\n",
    "    'lowerbound_edad': [0, 1, 2, 3, 4, 5, 6, 7, 8, 9, 10, 11, 12, 13, 14, 15, 16, 17, 18, 30, 46, 61, 76],\n",
    "    'upperbound_edad': [0, 1, 2, 3, 4, 5, 6, 7, 8, 9, 10, 11, 12, 13, 14, 15, 16, 17, 29, 45, 60, 75, 100],\n",
    "    'Mujeres': [0.35, 0.37, 0.46, 0.51, 0.55, 0.60, 0.64, 0.66, 0.68, 0.69, 0.70, 0.72, 0.74, 0.76, 0.76, 0.77, 0.77, 0.77, 0.76, 0.77, 0.76, 0.67, 0.63],\n",
    "    'Varones': [0.35, 0.37, 0.46, 0.51, 0.55, 0.60, 0.64, 0.66, 0.68, 0.69, 0.79, 0.82, 0.85, 0.9, 0.96, 1.00, 1.03, 1.04, 1.02, 1.00, 1.00, 0.83, 0.74]\n",
    "}\n",
    "\n",
    "# Creamos la base de datos tabla_equiv_creada a partir del diccionario adulto_equiv\n",
    "tabla_equiv_creada = pd.DataFrame(adulto_equiv)\n",
    "print(tabla_equiv_creada)\n",
    "\n",
    "# De la base de datos \"datos\", sabemos que CH06 es la varibale para edad y CH04 es la variable para sexo. \n",
    "# Tenemos la funcion para buscar el equivalente entre estas variables. \n",
    "def get_adulto_equiv(edad, sexo):\n",
    "    row = tabla_equiv_creada[(tabla_equiv_creada['lowerbound_edad'] <= edad) & (tabla_equiv_creada['upperbound_edad'] >= edad)]\n",
    "    if not row.empty:\n",
    "        if sexo == 1:  \n",
    "            return row['Varones'].values[0]\n",
    "        else: \n",
    "            return row['Mujeres'].values[0]\n",
    "    else:\n",
    "        return None  # Esto es por si no se encunetra ninguna coincidencia\n",
    "\n",
    "# Ahora pasamos a crear a columa que se nos pide : 'adulto_equiv'. Primero hacemos la copia de la base de datos \"datos_limpios\" y luego sumamos la columa \n",
    "datos_limpios_copia = datos_limpios.copy()  \n",
    "datos_limpios_copia['adulto_equiv'] = datos_limpios_copia.apply(lambda row: get_adulto_equiv(row['CH06'], row['CH04']), axis=1)\n",
    "datos_limpios_copia['ad_equiv_hogar'] = datos_limpios_copia.groupby('CODUSU')['adulto_equiv'].transform('sum')\n",
    "\n",
    "print(datos_limpios_copia[['CH06', 'CH04', 'adulto_equiv', 'ad_equiv_hogar']].head())\n"
   ]
  },
  {
   "cell_type": "code",
   "execution_count": 12,
   "id": "87c14ed0-e97c-4752-a3bd-a29ca98b868e",
   "metadata": {},
   "outputs": [
    {
     "name": "stdout",
     "output_type": "stream",
     "text": [
      " 1618 hogares no respondieron su ingreso total familiar\n",
      "Guardamos los datos en 'respondieron.xlsx' y 'norespondieron.xlsx'.\n"
     ]
    }
   ],
   "source": [
    "#Ejericio 3  \n",
    "#Nos enfocamos en la problematica de hogares que no reportan sus ingresos. Principalmente el Ingreso total familia (ITF). \n",
    "\n",
    "\n",
    "# Filtramos las observaciones donde ITF es NaN o 0\n",
    "respondieron = datos_limpios[datos_limpios['ITF'].notna() & (datos_limpios['ITF'] > 0)].copy()\n",
    "norespondieron = datos_limpios[datos_limpios['ITF'].isna() | (datos_limpios['ITF'] == 0)].copy()\n",
    "\n",
    "# Verificamos cuántas personas no respondieron su ingreso total familiar\n",
    "cuantos_no_respondieron = len(norespondieron)\n",
    "print(f\" {cuantos_no_respondieron} hogares no respondieron su ingreso total familiar\")\n",
    "\n",
    "# Guardar las observaciones en archivos separados\n",
    "base_respondieron = 'respondieron.xlsx'\n",
    "respondieron = datos_limpios_copia[datos_limpios_copia['ITF'].notna() & (datos_limpios_copia['ITF'] > 0)].copy()\n",
    "respondieron.to_excel(base_respondieron, index=False)\n",
    "\n",
    "base_norespondieron = 'norespondieron.xlsx'\n",
    "norespondieron = datos_limpios_copia[datos_limpios_copia['ITF'].isna() | (datos_limpios_copia['ITF'] == 0)].copy()\n",
    "norespondieron.to_excel(base_norespondieron, index=False)\n",
    "\n",
    "print(f\"Guardamos los datos en '{base_respondieron}' y '{base_norespondieron}'.\")"
   ]
  },
  {
   "cell_type": "code",
   "execution_count": 13,
   "id": "78db3ca4-3ffa-43ac-910d-20b660a9db37",
   "metadata": {},
   "outputs": [
    {
     "name": "stdout",
     "output_type": "stream",
     "text": [
      "Primeras filas del DataFrame 'respondieron':\n",
      "                          CODUSU  ANO4  TRIMESTRE  NRO_HOGAR  COMPONENTE  H15  \\\n",
      "0  TQRMNOTUUHJMLPCDEIIAD00801670  2023          4          1           1    1   \n",
      "1  TQRMNOTUUHJMLPCDEIIAD00801670  2023          4          1           2    1   \n",
      "2  TQRMNOPUTHKLMNCDEIIAD00791268  2023          4          1           1    1   \n",
      "3  TQRMNOPUTHKLMNCDEIIAD00791268  2023          4          1           2    1   \n",
      "4  TQRMNOPUTHKLMNCDEIIAD00791268  2023          4          1           3    1   \n",
      "\n",
      "   REGION MAS_500  AGLOMERADO  PONDERA  ...       IPCF  DECCFR IDECCFR  \\\n",
      "0       1       S          32     1775  ...  225000.00       8     NaN   \n",
      "1       1       S          32     1775  ...  225000.00       8     NaN   \n",
      "2       1       S          32     3129  ...  266666.67       9     NaN   \n",
      "3       1       S          32     3129  ...  266666.67       9     NaN   \n",
      "4       1       S          32     3129  ...  266666.67       9     NaN   \n",
      "\n",
      "   RDECCFR  GDECCFR  PDECCFR  ADECCFR  PONDIH  adulto_equiv  ad_equiv_hogar  \n",
      "0        8        8      NaN        5    3079          0.74            1.37  \n",
      "1        8        8      NaN        5    3079          0.63            1.37  \n",
      "2        8        8      NaN        6    4648          0.76            2.82  \n",
      "3        8        8      NaN        6    4648          1.02            2.82  \n",
      "4        8        8      NaN        6    4648          1.04            2.82  \n",
      "\n",
      "[5 rows x 179 columns]\n",
      "Datos actualizados guardados en 'respondieron.xlsx'\n",
      "   ad_equiv_hogar  ingreso_necesario\n",
      "0            1.37         182009.021\n",
      "1            1.37         182009.021\n",
      "2            2.82         374646.306\n",
      "3            2.82         374646.306\n",
      "4            2.82         374646.306\n"
     ]
    }
   ],
   "source": [
    "#Ejercicio 4 \n",
    "# Vamos a utilizar la base respondieron asi que debemos verificar que este creada correctamente\n",
    "# Cargar la base 'respondieron'\n",
    "respondieron = pd.read_excel(base_respondieron)\n",
    "\n",
    "# Verificar el contenido del DataFrame\n",
    "print(\"Primeras filas del DataFrame 'respondieron':\")\n",
    "print(respondieron.head())\n",
    "\n",
    "#Sabiendo que la Canasta Basica Total para un adulto equivalente en el cuarto trimestre de 2024 es aproximadamente $132.853, creamos\n",
    "cesta_basica_total = 132853.3\n",
    "\n",
    "# Agregamos a la base respondieron una columna llamada ingreso necesario que sea el producto de este valor por ad_equiv_hogar \n",
    "respondieron['ingreso_necesario'] = respondieron['ad_equiv_hogar'] * cesta_basica_total\n",
    "\n",
    "# Guardamos la base de datos actualizada\n",
    "respondieron.to_excel(base_respondieron, index=False)\n",
    "print(\"Datos actualizados guardados en 'respondieron.xlsx'\")\n",
    "print(respondieron[['ad_equiv_hogar', 'ingreso_necesario']].head())\n",
    "\n",
    "\n"
   ]
  },
  {
   "cell_type": "code",
   "execution_count": 14,
   "id": "8ef01074-952f-44d6-9f73-e587e0511ef9",
   "metadata": {},
   "outputs": [
    {
     "name": "stdout",
     "output_type": "stream",
     "text": [
      "Hay 1732 individuos pobres.\n"
     ]
    }
   ],
   "source": [
    "#Ejercicio 5\n",
    "#Agregamos a respondieron una columna llamada pobre que tome valor 1 si el ITF es menor al ingreso necesario que necesita esa familia, y 0 en caso contrario.\n",
    "\n",
    "# Agregaamos la columna 'pobre' con la condicion\n",
    "respondieron['pobre'] = (respondieron['ITF'] < respondieron['ingreso_necesario']).astype(int)\n",
    "\n",
    "# Contamos cuántos individuos se clasifican como pobres\n",
    "individuos_pobres = respondieron['pobre'].sum()\n",
    "\n",
    "# Imprimimos la cantidad de individuos pobres identificados\n",
    "print(f\"Hay {individuos_pobres} individuos pobres.\")\n"
   ]
  },
  {
   "cell_type": "code",
   "execution_count": 15,
   "id": "49063dc8-50b4-4013-bacd-886782032098",
   "metadata": {},
   "outputs": [
    {
     "name": "stdout",
     "output_type": "stream",
     "text": [
      "                             CODUSU  ANO4  TRIMESTRE  NRO_HOGAR  COMPONENTE  \\\n",
      "0     TQRMNOTUUHJMLPCDEIIAD00801670  2023          4          1           1   \n",
      "1     TQRMNOTUUHJMLPCDEIIAD00801670  2023          4          1           2   \n",
      "2     TQRMNOPUTHKLMNCDEIIAD00791268  2023          4          1           1   \n",
      "3     TQRMNOPUTHKLMNCDEIIAD00791268  2023          4          1           2   \n",
      "4     TQRMNOPUTHKLMNCDEIIAD00791268  2023          4          1           3   \n",
      "...                             ...   ...        ...        ...         ...   \n",
      "4346  TQRMNOSRQHLMNSCDEIJAH00855730  2023          4          1           2   \n",
      "4347  TQRMNOSRQHLMNSCDEIJAH00855730  2023          4          1           3   \n",
      "4348  TQRMNOVTYHLMNUCDEIJAH00855731  2023          4          1           1   \n",
      "4349  TQRMNOVTYHLMNUCDEIJAH00855731  2023          4          1           2   \n",
      "4350  TQRMNOVTYHLMNUCDEIJAH00855731  2023          4          1           3   \n",
      "\n",
      "      H15  REGION MAS_500  AGLOMERADO  PONDERA  ...  PP11M  PP11N PP11O  \\\n",
      "0       1       1       S          32     1775  ...    NaN    NaN   NaN   \n",
      "1       1       1       S          32     1775  ...    NaN    NaN   NaN   \n",
      "2       1       1       S          32     3129  ...    NaN    NaN   NaN   \n",
      "3       1       1       S          32     3129  ...    NaN    NaN   NaN   \n",
      "4       1       1       S          32     3129  ...    NaN    NaN   NaN   \n",
      "...   ...     ...     ...         ...      ...  ...    ...    ...   ...   \n",
      "4346    1       1       S          33     1230  ...    NaN    NaN   NaN   \n",
      "4347    0       1       S          33     1230  ...    NaN    NaN   NaN   \n",
      "4348    1       1       S          33     1316  ...    NaN    NaN   NaN   \n",
      "4349    1       1       S          33     1316  ...    NaN    NaN   NaN   \n",
      "4350    1       1       S          33     1316  ...    2.0    1.0   1.0   \n",
      "\n",
      "      PP11P  PP11Q  PP11R  PP11S  PP11T    T_VI  pobre  \n",
      "0       NaN    NaN    NaN    NaN    NaN  130000      0  \n",
      "1       NaN    NaN    NaN    NaN    NaN  140000      0  \n",
      "2       NaN    NaN    NaN    NaN    NaN   45000      0  \n",
      "3       NaN    NaN    NaN    NaN    NaN       0      0  \n",
      "4       NaN    NaN    NaN    NaN    NaN       0      0  \n",
      "...     ...    ...    ...    ...    ...     ...    ...  \n",
      "4346    NaN    NaN    NaN    NaN    NaN       0      0  \n",
      "4347    NaN    NaN    NaN    NaN    NaN       0      0  \n",
      "4348    NaN    NaN    NaN    NaN    NaN  120000      1  \n",
      "4349    NaN    NaN    NaN    NaN    NaN  120000      1  \n",
      "4350    2.0    2.0    2.0    1.0    2.0       0      1  \n",
      "\n",
      "[4351 rows x 122 columns]\n"
     ]
    }
   ],
   "source": [
    "#Parte 2\n",
    "#1.\n",
    "columnas_eliminar = [\n",
    "    'PP06A', 'PP06C', 'PP06D', 'PP06E', 'PP06H',\n",
    "    'PP08D1', 'PP08D4', 'PP08F1', 'PP08F2', 'PP08J1',\n",
    "    'PP08J2', 'PP08J3', 'P21', 'DECOCUR', 'IDECOCUR',\n",
    "    'RDECOCUR', 'GDECOCUR', 'PDECOCUR', 'ADECOCUR',\n",
    "    'PONDIIO', 'TOT_P12', 'P47T', 'DECINDR', 'IDECINDR',\n",
    "    'RDECINDR', 'GDECINDR', 'PDECINDR', 'ADECINDR',\n",
    "    'PONDII', 'V2_M', 'V3_M', 'V4_M', 'V5_M', 'V8_M',\n",
    "    'V9_M', 'V10_M', 'V11_M', 'V12_M', 'V18_M',\n",
    "    'V19_AM', 'V21_M', 'ITF', 'DECIFR', 'IDECIFR',\n",
    "    'RDECIFR', 'GDECIFR', 'PDECIFR', 'ADECIFR',\n",
    "    'IPCF', 'DECCFR', 'IDECCFR', 'RDECCFR', 'GDECCFR',\n",
    "    'PDECCFR', 'ADECCFR', 'PONDIH', 'adulto_equiv',\n",
    "    'ad_equiv_hogar', 'ingreso_necesario'\n",
    "]\n",
    "\n",
    "respondieron = respondieron.drop(columnas_eliminar, axis=1)\n",
    "columnas_eliminar = [\n",
    "    'PP06A', 'PP06C', 'PP06D', 'PP06E', 'PP06H',\n",
    "    'PP08D1', 'PP08D4', 'PP08F1', 'PP08F2', 'PP08J1',\n",
    "    'PP08J2', 'PP08J3', 'P21', 'DECOCUR', 'IDECOCUR',\n",
    "    'RDECOCUR', 'GDECOCUR', 'PDECOCUR', 'ADECOCUR',\n",
    "    'PONDIIO', 'TOT_P12', 'P47T', 'DECINDR', 'IDECINDR',\n",
    "    'RDECINDR', 'GDECINDR', 'PDECINDR', 'ADECINDR',\n",
    "    'PONDII', 'V2_M', 'V3_M', 'V4_M', 'V5_M', 'V8_M',\n",
    "    'V9_M', 'V10_M', 'V11_M', 'V12_M', 'V18_M',\n",
    "    'V19_AM', 'V21_M', 'ITF', 'DECIFR', 'IDECIFR',\n",
    "    'RDECIFR', 'GDECIFR', 'PDECIFR', 'ADECIFR',\n",
    "    'IPCF', 'DECCFR', 'IDECCFR', 'RDECCFR', 'GDECCFR',\n",
    "    'PDECCFR', 'ADECCFR', 'PONDIH', 'adulto_equiv',\n",
    "    'ad_equiv_hogar'\n",
    "]\n",
    "norespondieron = norespondieron.drop(columnas_eliminar, axis=1)\n",
    "print(respondieron)"
   ]
  },
  {
   "cell_type": "code",
   "execution_count": 16,
   "id": "ffce5464-81ab-4325-a545-8fe4dd54d39a",
   "metadata": {},
   "outputs": [],
   "source": [
    "from sklearn.model_selection import train_test_split"
   ]
  },
  {
   "cell_type": "code",
   "execution_count": 17,
   "id": "3e6e28d5-c66d-42dc-8584-b11221f58448",
   "metadata": {},
   "outputs": [],
   "source": [
    "#2.\n",
    "#Partimos la base en train y test\n",
    "respondieron_train, respondieron_test = train_test_split(respondieron, test_size = 0.3, random_state = 101)"
   ]
  },
  {
   "cell_type": "code",
   "execution_count": 18,
   "id": "30153fe1-42ec-41d8-b849-a0139a6b2422",
   "metadata": {},
   "outputs": [],
   "source": [
    "# Separamos en variable pobre y vector de variables explicativas, agregamos la constante\n",
    "pobre_train = respondieron_train.pobre\n",
    "x_train = respondieron_train.drop(columns= \"pobre\")\n",
    "x_train[\"cons\"] = 1"
   ]
  },
  {
   "cell_type": "code",
   "execution_count": 19,
   "id": "82ee7094-31d4-4508-89bc-b4abc1d545d6",
   "metadata": {},
   "outputs": [],
   "source": [
    "pobre_test = respondieron_test.pobre\n",
    "x_test = respondieron_test.drop(columns= \"pobre\")\n",
    "x_test[\"cons\"] = 1"
   ]
  },
  {
   "cell_type": "code",
   "execution_count": 20,
   "id": "a313a213-e55d-453c-8b18-118315aabdaa",
   "metadata": {},
   "outputs": [],
   "source": [
    "from sklearn.metrics import confusion_matrix\n",
    "from sklearn.metrics import accuracy_score \n",
    "from sklearn.metrics import roc_curve, roc_auc_score, RocCurveDisplay\n",
    "from sklearn.discriminant_analysis import LinearDiscriminantAnalysis as LDA\n",
    "from sklearn.neighbors import KNeighborsClassifier\n",
    "from sklearn.linear_model import LogisticRegression\n",
    "from datetime import datetime\n",
    "from sklearn.preprocessing import StandardScaler"
   ]
  },
  {
   "cell_type": "code",
   "execution_count": 21,
   "id": "fd8c6415-a682-4614-bfe0-d507fb2fa2ff",
   "metadata": {},
   "outputs": [
    {
     "name": "stdout",
     "output_type": "stream",
     "text": [
      "Index(['CODUSU', 'MAS_500', 'CH05', 'PP09A_ESP'], dtype='object')\n",
      "                             CODUSU MAS_500                 CH05 PP09A_ESP\n",
      "3225  TQRMNOPSYHKLSLCDEIJAH00792402       S  1965-12-26 00:00:00       NaN\n",
      "3179  TQRMNOQRYHKLTSCDEIJAH00792120       S  1958-02-21 00:00:00       NaN\n",
      "3990  TQRMNOTVRHJMLPCDEIIAD00796075       S  1978-11-22 00:00:00       NaN\n",
      "299   TQRMNORTQHLMOQCDEIJAH00855027       S  1968-02-15 00:00:00       NaN\n",
      "3893  TQRMNOPRRHMKOMCDEIJAH00812405       S  1977-07-15 00:00:00       NaN\n"
     ]
    }
   ],
   "source": [
    "# Buscamos las columnas no numéricas para evaluar si usarlas o no, y cómo hacerlo\n",
    "non_numeric_columns = x_train.select_dtypes(include=['object']).columns\n",
    "print(non_numeric_columns)\n",
    "print(x_train[non_numeric_columns].head())"
   ]
  },
  {
   "cell_type": "code",
   "execution_count": 22,
   "id": "d2370054-5071-4ee9-94ea-0a569944a6fb",
   "metadata": {},
   "outputs": [],
   "source": [
    "# Consideramos las variables que no son numéricas y decidimos reemplazar dos y eliminar dos\n",
    "# Eliminamos las columnas 'CODUSU' y 'PP09A_ESP' porque son códigos únicos de las observaciones\n",
    "x_train = x_train.drop(columns=['CODUSU', 'PP09A_ESP'])\n",
    "x_test = x_test.drop(columns=['CODUSU', 'PP09A_ESP'])\n",
    "\n",
    "# Reemplazamos los valores en la columna 'MAS_500' como dummy numérica\n",
    "x_train['MAS_500'] = x_train['MAS_500'].map({'S': 1, 'N': 0})\n",
    "x_test['MAS_500'] = x_test['MAS_500'].map({'S': 1, 'N': 0})\n",
    "\n",
    "# Convertimos la columna 'CH05' en edad. Antes era la fecha de nacimiento\n",
    "def calculate_age(birthdate):\n",
    "    today = datetime.today()\n",
    "    if isinstance(birthdate, str):\n",
    "        birthdate = datetime.strptime(birthdate, \"%Y-%m-%d\")\n",
    "    return today.year - birthdate.year - ((today.month, today.day) < (birthdate.month, birthdate.day))\n",
    "\n",
    "x_train['CH05'] = x_train['CH05'].apply(calculate_age)\n",
    "x_test['CH05'] = x_test['CH05'].apply(calculate_age)"
   ]
  },
  {
   "cell_type": "code",
   "execution_count": 23,
   "id": "91169acf-0fd3-4924-8b06-8dbeb00ba8c6",
   "metadata": {},
   "outputs": [
    {
     "name": "stdout",
     "output_type": "stream",
     "text": [
      "ANO4             0\n",
      "TRIMESTRE        0\n",
      "NRO_HOGAR        0\n",
      "COMPONENTE       0\n",
      "H15              0\n",
      "REGION           0\n",
      "MAS_500          0\n",
      "AGLOMERADO       0\n",
      "PONDERA          0\n",
      "CH03             0\n",
      "CH04             0\n",
      "CH05             0\n",
      "CH06             0\n",
      "CH07             0\n",
      "CH08             0\n",
      "CH09             0\n",
      "CH10             0\n",
      "CH11             0\n",
      "CH12             0\n",
      "CH13             0\n",
      "CH14          1512\n",
      "CH15             0\n",
      "CH15_COD      2452\n",
      "CH16             0\n",
      "CH16_COD      2986\n",
      "NIVEL_ED         0\n",
      "ESTADO           0\n",
      "CAT_OCUP         0\n",
      "CAT_INAC         0\n",
      "IMPUTA        3037\n",
      "PP02C1           0\n",
      "PP02C2           0\n",
      "PP02C3           0\n",
      "PP02C4           0\n",
      "PP02C5           0\n",
      "PP02C6           0\n",
      "PP02C7           0\n",
      "PP02C8           0\n",
      "PP02E            0\n",
      "PP02H            0\n",
      "PP02I            0\n",
      "PP03C         1654\n",
      "PP03D         1654\n",
      "PP3E_TOT      1654\n",
      "PP3F_TOT      1654\n",
      "PP03G         1654\n",
      "PP03H         1654\n",
      "PP03I         1654\n",
      "PP03J         1654\n",
      "INTENSI       1654\n",
      "PP04A         1654\n",
      "PP04B_COD     1654\n",
      "PP04B1        1654\n",
      "PP04B2        1654\n",
      "PP04B3_MES    1654\n",
      "PP04B3_ANO    1654\n",
      "PP04B3_DIA    1654\n",
      "PP04C         1654\n",
      "PP04C99       1654\n",
      "PP04D_COD     1654\n",
      "PP04G         1654\n",
      "PP05B2_MES    1654\n",
      "PP05B2_ANO    1654\n",
      "PP05B2_DIA    1654\n",
      "PP05C_1       1654\n",
      "PP05C_2       1654\n",
      "PP05C_3       1654\n",
      "PP05E         1654\n",
      "PP05F         1654\n",
      "PP05H         1654\n",
      "PP07A         1654\n",
      "PP07C         1654\n",
      "PP07D         1654\n",
      "PP07E         1654\n",
      "PP07F1        1654\n",
      "PP07F2        1654\n",
      "PP07F3        1654\n",
      "PP07F4        1654\n",
      "PP07F5        1654\n",
      "PP07G1        1654\n",
      "PP07G2        1654\n",
      "PP07G3        1654\n",
      "PP07G4        1654\n",
      "PP07G_59      1654\n",
      "PP07H         1654\n",
      "PP07I         1654\n",
      "PP07J         1654\n",
      "PP07K         1654\n",
      "PP09A         1654\n",
      "PP09B         1654\n",
      "PP09C         1654\n",
      "PP09C_ESP     3045\n",
      "PP10A         2937\n",
      "PP10C         2937\n",
      "PP10D         2937\n",
      "PP10E         2937\n",
      "PP11A         2937\n",
      "PP11B_COD     2937\n",
      "PP11B1        2937\n",
      "PP11B2_MES    2937\n",
      "PP11B2_ANO    2937\n",
      "PP11B2_DIA    2937\n",
      "PP11C         2937\n",
      "PP11C99       2937\n",
      "PP11D_COD     2965\n",
      "PP11G_ANO     2937\n",
      "PP11G_MES     2937\n",
      "PP11G_DIA     2937\n",
      "PP11L         2937\n",
      "PP11L1        2937\n",
      "PP11M         2937\n",
      "PP11N         2937\n",
      "PP11O         2937\n",
      "PP11P         2937\n",
      "PP11Q         2937\n",
      "PP11R         2937\n",
      "PP11S         2937\n",
      "PP11T         2937\n",
      "T_VI             0\n",
      "cons             0\n",
      "dtype: int64\n"
     ]
    }
   ],
   "source": [
    "pd.set_option('display.max_rows', None)\n",
    "\n",
    "# Obtuvimos el resumen de los missings\n",
    "missing_values = x_train.isna().sum()\n",
    "print(missing_values)"
   ]
  },
  {
   "cell_type": "code",
   "execution_count": 24,
   "id": "405222e6-878a-41f6-ae6a-8dd8c91d5b1d",
   "metadata": {},
   "outputs": [],
   "source": [
    "# Se eliminan todas las variables con missings, dado que son preguntas para los subgrupos de ocupados, independientes, desocupados, etc. dependiendo el caso, porque no tiene sentido predecir valores para los missings.\n",
    "x_train = x_train.dropna(axis=1)\n",
    "x_test = x_test.dropna(axis=1)"
   ]
  },
  {
   "cell_type": "code",
   "execution_count": 25,
   "id": "9ce3cc84-36fc-4cda-8fe0-5bce367add09",
   "metadata": {},
   "outputs": [],
   "source": [
    "# Estandarización de los datos\n",
    "scaler = StandardScaler()\n",
    "\n",
    "x_train_estand = scaler.fit_transform(x_train)\n",
    "x_test_estand = scaler.transform(x_test)"
   ]
  },
  {
   "cell_type": "code",
   "execution_count": 26,
   "id": "69edbd88-ea90-4893-8373-bfad9448d320",
   "metadata": {},
   "outputs": [],
   "source": [
    "# Modelo logit\n",
    "logit_model = LogisticRegression()\n",
    "logit_model.fit(x_train_estand, pobre_train)\n",
    "logit_proba = logit_model.predict_proba(x_test_estand)[:, 1]\n",
    "logit_pred = logit_model.predict(x_test_estand)\n",
    "logit_cm = confusion_matrix(pobre_test, logit_pred)\n",
    "logit_auc = roc_auc_score(pobre_test, logit_proba)\n",
    "logit_accuracy = accuracy_score(pobre_test, logit_pred)\n",
    "\n",
    "# Modelo LDA\n",
    "lda_model = LDA()\n",
    "lda_model.fit(x_train_estand, pobre_train)\n",
    "lda_proba = lda_model.predict_proba(x_test_estand)[:, 1]\n",
    "lda_pred = lda_model.predict(x_test_estand)\n",
    "lda_cm = confusion_matrix(pobre_test, lda_pred)\n",
    "lda_auc = roc_auc_score(pobre_test, lda_proba)\n",
    "lda_accuracy = accuracy_score(pobre_test, lda_pred)\n",
    "\n",
    "# Modelo KNN con k=3\n",
    "knn_model = KNeighborsClassifier(n_neighbors=3)\n",
    "knn_model.fit(x_train_estand, pobre_train)\n",
    "knn_proba = knn_model.predict_proba(x_test_estand)[:, 1]\n",
    "knn_pred = knn_model.predict(x_test_estand)\n",
    "knn_cm = confusion_matrix(pobre_test, knn_pred)\n",
    "knn_auc = roc_auc_score(pobre_test, knn_proba)\n",
    "knn_accuracy = accuracy_score(pobre_test, knn_pred)"
   ]
  },
  {
   "cell_type": "code",
   "execution_count": 27,
   "id": "e51cf5e3-a287-48ea-be33-94d26f6e6cd3",
   "metadata": {},
   "outputs": [],
   "source": [
    "# Calculamos los falsos positivos y falsos negativos\n",
    "logit_fpr, logit_tpr, _ = roc_curve(pobre_test, logit_proba)\n",
    "lda_fpr, lda_tpr, _ = roc_curve(pobre_test, lda_proba)\n",
    "knn_fpr, knn_tpr, _ = roc_curve(pobre_test, knn_proba)"
   ]
  },
  {
   "cell_type": "code",
   "execution_count": 28,
   "id": "82bb907a-cde5-4851-93cf-abaa2638995b",
   "metadata": {},
   "outputs": [
    {
     "name": "stdout",
     "output_type": "stream",
     "text": [
      "Logit:\n",
      "Matriz de confusion:\n",
      " [[656 130]\n",
      " [203 317]]\n",
      "AUC: 0.7936337835192796\n",
      "Accuracy: 0.7450229709035222\n",
      "\n",
      "LDA:\n",
      "Matriz de confusion:\n",
      " [[648 138]\n",
      " [211 309]]\n",
      "AUC: 0.7873434135838715\n",
      "Accuracy: 0.7327718223583461\n",
      "\n",
      "KNN:\n",
      "Matriz de confusion:\n",
      " [[619 167]\n",
      " [226 294]]\n",
      "AUC: 0.7278711587394793\n",
      "Accuracy: 0.6990811638591118\n"
     ]
    },
    {
     "data": {
      "image/png": "[encoded data removed]",
      "text/plain": [
       "<Figure size 800x600 with 1 Axes>"
      ]
     },
     "metadata": {},
     "output_type": "display_data"
    }
   ],
   "source": [
    "# Resultados\n",
    "print(\"Logit:\")\n",
    "print(\"Matriz de confusion:\\n\", logit_cm)\n",
    "print(\"AUC:\", logit_auc)\n",
    "print(\"Accuracy:\", logit_accuracy)\n",
    "\n",
    "print(\"\\nLDA:\")\n",
    "print(\"Matriz de confusion:\\n\", lda_cm)\n",
    "print(\"AUC:\", lda_auc)\n",
    "print(\"Accuracy:\", lda_accuracy)\n",
    "\n",
    "print(\"\\nKNN:\")\n",
    "print(\"Matriz de confusion:\\n\", knn_cm)\n",
    "print(\"AUC:\", knn_auc)\n",
    "print(\"Accuracy:\", knn_accuracy)\n",
    "\n",
    "# Curva ROC\n",
    "plt.figure(figsize=(8, 6))\n",
    "plt.plot(logit_fpr, logit_tpr, label='Logit (AUC = {:.2f})'.format(logit_auc))\n",
    "plt.plot(lda_fpr, lda_tpr, label='LDA (AUC = {:.2f})'.format(lda_auc))\n",
    "plt.plot(knn_fpr, knn_tpr, label='KNN (AUC = {:.2f})'.format(knn_auc))\n",
    "plt.plot([0, 1], [0, 1], 'k--')\n",
    "plt.xlabel('False Positive Rate')\n",
    "plt.ylabel('True Positive Rate')\n",
    "plt.title('Curva ROC')\n",
    "plt.legend(loc='lower right')\n",
    "plt.show()\n"
   ]
  },
  {
   "cell_type": "code",
   "execution_count": 29,
   "id": "3b7997a7-f59c-48b9-9544-1abe9a7ba12d",
   "metadata": {},
   "outputs": [],
   "source": [
    "# 5.\n",
    "#Acomodamos la base de norespondieron para que sea como respondieron (para que tenga las mismas variables)\n",
    "norespondieron = norespondieron.drop(columns=['CODUSU', 'PP09A_ESP'])\n",
    "norespondieron['MAS_500'] = norespondieron['MAS_500'].map({'S': 1, 'N': 0})\n",
    "norespondieron['CH05'] = norespondieron['CH05'].apply(calculate_age)\n",
    "norespondieron = norespondieron.dropna(axis=1)"
   ]
  },
  {
   "cell_type": "code",
   "execution_count": 30,
   "id": "ca6d509d-385a-4610-bf89-a9f653d93b3f",
   "metadata": {},
   "outputs": [],
   "source": [
    "# Agregamos la constante\n",
    "norespondieron_copy = norespondieron.copy()\n",
    "norespondieron_copy[\"cons\"] = 1"
   ]
  },
  {
   "cell_type": "code",
   "execution_count": 31,
   "id": "87c1ed3a-3ec8-49e2-9fad-ff70ebe39162",
   "metadata": {},
   "outputs": [],
   "source": [
    "# Estandarización de los datos\n",
    "norespondieron_estand = scaler.fit_transform(norespondieron_copy)"
   ]
  },
  {
   "cell_type": "code",
   "execution_count": 32,
   "id": "db49c28e-df9c-4d38-8beb-ec16552e7fbd",
   "metadata": {},
   "outputs": [
    {
     "name": "stderr",
     "output_type": "stream",
     "text": [
      "C:\\Users\\vicen\\anaconda3\\Lib\\site-packages\\sklearn\\base.py:486: UserWarning: X has feature names, but LogisticRegression was fitted without feature names\n",
      "  warnings.warn(\n"
     ]
    }
   ],
   "source": [
    "# Predecimos la pobreza de la base norespondieron con el modelo logit, que tuvo los mejores indicadores\n",
    "predict_norespondieron = logit_model.predict(norespondieron_copy)"
   ]
  },
  {
   "cell_type": "code",
   "execution_count": 33,
   "id": "67c41c5f-482e-40ab-a566-40ca135db8c2",
   "metadata": {},
   "outputs": [
    {
     "name": "stdout",
     "output_type": "stream",
     "text": [
      "Proporción de pobres en la predicción: 0.8028430160692213\n"
     ]
    }
   ],
   "source": [
    "#Calculamos la proporción de pobres\n",
    "proporcion_pobres = sum(predict_norespondieron) / len(predict_norespondieron)\n",
    "\n",
    "# Imprimimos la proporción de pobres\n",
    "print(\"Proporción de pobres en la predicción:\", proporcion_pobres)"
   ]
  },
  {
   "cell_type": "code",
   "execution_count": 34,
   "id": "68e70eb8-2255-49db-937e-f538221b5f11",
   "metadata": {},
   "outputs": [],
   "source": [
    "#6.\n",
    "# Eliminamos las variables\n",
    "x_train = x_train.drop(columns=['PP02C1', 'PP02C2', 'PP02C3', 'PP02C4', 'PP02C5', 'PP02C6', 'PP02C7', 'PP02C8', 'PP02E'])\n",
    "x_test = x_test.drop(columns=['PP02C1', 'PP02C2', 'PP02C3', 'PP02C4', 'PP02C5', 'PP02C6', 'PP02C7', 'PP02C8', 'PP02E'])"
   ]
  },
  {
   "cell_type": "code",
   "execution_count": 35,
   "id": "df9c9d80-9255-4882-a74b-00e14e92ed5a",
   "metadata": {},
   "outputs": [],
   "source": [
    "# Estandarización de los datos\n",
    "scaler = StandardScaler()\n",
    "\n",
    "x_train_estand = scaler.fit_transform(x_train)\n",
    "x_test_estand = scaler.transform(x_test)"
   ]
  },
  {
   "cell_type": "code",
   "execution_count": 36,
   "id": "707e8ab1-854c-469f-af2a-bf4618158e14",
   "metadata": {},
   "outputs": [],
   "source": [
    "# Modelo logit\n",
    "logit_model = LogisticRegression()\n",
    "logit_model.fit(x_train_estand, pobre_train)\n",
    "logit_proba = logit_model.predict_proba(x_test_estand)[:, 1]\n",
    "logit_pred = logit_model.predict(x_test_estand)\n",
    "logit_cm = confusion_matrix(pobre_test, logit_pred)\n",
    "logit_auc = roc_auc_score(pobre_test, logit_proba)\n",
    "logit_accuracy = accuracy_score(pobre_test, logit_pred)"
   ]
  },
  {
   "cell_type": "code",
   "execution_count": 37,
   "id": "4bd59c2d-8122-4ad2-aa05-df4b96ab3340",
   "metadata": {},
   "outputs": [
    {
     "name": "stdout",
     "output_type": "stream",
     "text": [
      "Logit:\n",
      "Matriz de confusion:\n",
      " [[657 129]\n",
      " [203 317]]\n",
      "AUC: 0.7945390487375221\n",
      "Accuracy: 0.7457886676875957\n"
     ]
    }
   ],
   "source": [
    "# Resultados\n",
    "print(\"Logit:\")\n",
    "print(\"Matriz de confusion:\\n\", logit_cm)\n",
    "print(\"AUC:\", logit_auc)\n",
    "print(\"Accuracy:\", logit_accuracy)"
   ]
  }
 ],
 "metadata": {
  "kernelspec": {
   "display_name": "Python 3 (ipykernel)",
   "language": "python",
   "name": "python3"
  },
  "language_info": {
   "codemirror_mode": {
    "name": "ipython",
    "version": 3
   },
   "file_extension": ".py",
   "mimetype": "text/x-python",
   "name": "python",
   "nbconvert_exporter": "python",
   "pygments_lexer": "ipython3",
   "version": "3.11.7"
  }
 },
 "nbformat": 4,
 "nbformat_minor": 5
}
